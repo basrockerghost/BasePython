{
 "cells": [
  {
   "cell_type": "code",
   "execution_count": 33,
   "metadata": {},
   "outputs": [
    {
     "name": "stdout",
     "output_type": "stream",
     "text": [
      "    Wine  Chips  Bread  Butter  Milk  Apple\n",
      "0    NaN    NaN  Bread  Butter  Milk    NaN\n",
      "1    NaN    NaN  Bread  Butter  Milk    NaN\n",
      "2    NaN  Chips    NaN     NaN   NaN  Apple\n",
      "3   Wine  Chips  Bread  Butter  Milk  Apple\n",
      "4   Wine  Chips    NaN     NaN  Milk    NaN\n",
      "5   Wine  Chips  Bread  Butter   NaN  Apple\n",
      "6   Wine  Chips    NaN     NaN  Milk    NaN\n",
      "7   Wine    NaN  Bread     NaN   NaN  Apple\n",
      "8   Wine    NaN  Bread  Butter  Milk    NaN\n",
      "9    NaN  Chips  Bread  Butter   NaN  Apple\n",
      "10  Wine    NaN    NaN  Butter  Milk  Apple\n",
      "11  Wine  Chips  Bread  Butter  Milk    NaN\n",
      "12  Wine    NaN  Bread     NaN  Milk  Apple\n",
      "13  Wine    NaN  Bread  Butter  Milk  Apple\n",
      "14  Wine  Chips  Bread  Butter  Milk  Apple\n",
      "15   NaN  Chips  Bread  Butter  Milk  Apple\n",
      "16   NaN  Chips    NaN  Butter  Milk  Apple\n",
      "17  Wine  Chips  Bread  Butter  Milk  Apple\n",
      "18  Wine    NaN  Bread  Butter  Milk  Apple\n",
      "19  Wine  Chips  Bread     NaN  Milk    NaN\n",
      "20   NaN  Chips    NaN     NaN   NaN    NaN\n"
     ]
    }
   ],
   "source": [
    "import pandas as pd\n",
    "import numpy as np\n",
    "from apyori import apriori\n",
    "\n",
    "df = pd.read_csv(r'C:\\Users\\User\\Downloads\\market_basket.csv')\n",
    "\n",
    "print(df)"
   ]
  },
  {
   "cell_type": "code",
   "execution_count": 34,
   "metadata": {},
   "outputs": [],
   "source": [
    "#convert datafram to list\n",
    "data=[]\n",
    "for i in range(0, 21):\n",
    "    data.append([str(df.values[i, j]) for j in range(0, 6)])"
   ]
  },
  {
   "cell_type": "code",
   "execution_count": 35,
   "metadata": {},
   "outputs": [
    {
     "name": "stdout",
     "output_type": "stream",
     "text": [
      "2\n"
     ]
    }
   ],
   "source": [
    "#build apiori model\n",
    "association_rules = apriori(data, min_support=0.4, min_confidence=0.70, min_lift=1.2, min_length=2)\n",
    "association_rules=list(association_rules)\n",
    "\n",
    "#show the number of rules\n",
    "print(len(association_rules))"
   ]
  },
  {
   "cell_type": "code",
   "execution_count": 36,
   "metadata": {},
   "outputs": [
    {
     "name": "stdout",
     "output_type": "stream",
     "text": [
      "[RelationRecord(items=frozenset({'Bread', 'Butter'}), support=0.5714285714285714, ordered_statistics=[OrderedStatistic(items_base=frozenset({'Bread'}), items_add=frozenset({'Butter'}), confidence=0.7999999999999999, lift=1.2), OrderedStatistic(items_base=frozenset({'Butter'}), items_add=frozenset({'Bread'}), confidence=0.8571428571428571, lift=1.2)]), RelationRecord(items=frozenset({'Milk', 'Bread', 'Butter'}), support=0.47619047619047616, ordered_statistics=[OrderedStatistic(items_base=frozenset({'Butter'}), items_add=frozenset({'Milk', 'Bread'}), confidence=0.7142857142857143, lift=1.25), OrderedStatistic(items_base=frozenset({'Milk', 'Bread'}), items_add=frozenset({'Butter'}), confidence=0.8333333333333334, lift=1.2500000000000002)])]\n"
     ]
    }
   ],
   "source": [
    "print(association_rules)"
   ]
  }
 ],
 "metadata": {
  "kernelspec": {
   "display_name": "lib",
   "language": "python",
   "name": "python3"
  },
  "language_info": {
   "codemirror_mode": {
    "name": "ipython",
    "version": 3
   },
   "file_extension": ".py",
   "mimetype": "text/x-python",
   "name": "python",
   "nbconvert_exporter": "python",
   "pygments_lexer": "ipython3",
   "version": "3.10.11"
  }
 },
 "nbformat": 4,
 "nbformat_minor": 2
}
