{
 "cells": [
  {
   "cell_type": "code",
   "execution_count": 3,
   "metadata": {},
   "outputs": [
    {
     "name": "stdout",
     "output_type": "stream",
     "text": [
      "X : [[38, 1, 120, 16.91], [23, 0, 82, 18.0], [27, 0, 113, 10.39], [27, 1, 114, 18.99], [19, 0, 102, 19.44], [26, 0, 104, 15.9], [31, 0, 124, 16.08], [11, 1, 102, 19.37], [26, 0, 116, 16.38], [31, 0, 114, 15.08], [20, 1, 111, 16.61], [12, 0, 107, 17.85], [12, 0, 105, 3.04], [20, 0, 116, 18.82], [22, 0, 119, 25.8], [28, 0, 115, 14.78], [13, 1, 114, 10.56], [40, 0, 124, 13.48], [20, 1, 105, 16.73], [13, 1, 119, 18.98]]\n",
      "Y : [2, 1, 1, 1, 2, 2, 1, 1, 3, 1, 3, 1, 2, 2, 1, 2, 2, 3, 2, 2]\n"
     ]
    }
   ],
   "source": [
    "# Import train_test_split function\n",
    "from sklearn.model_selection import train_test_split as ttp\n",
    "import pandas as pd\n",
    "\n",
    "df = pd.read_csv(r'C:\\Users\\User\\Downloads\\e_com.csv')\n",
    "\n",
    "X=[]\n",
    "Y=[]\n",
    "r, c = df.shape\n",
    "for m in range(0, r):\n",
    "    tmp=[]\n",
    "    n=0\n",
    "    for cl in df:\n",
    "        a = df[cl]\n",
    "        if n<4:\n",
    "            tmp.append(a[m])\n",
    "        if n == c-1:\n",
    "            Y.append(a[m])\n",
    "        n+=1\n",
    "    X.append(tmp)\n",
    "\n",
    "print(f'X : {X}')\n",
    "print(f'Y : {Y}')\n"
   ]
  },
  {
   "cell_type": "code",
   "execution_count": 4,
   "metadata": {},
   "outputs": [],
   "source": [
    "#Import svm model\n",
    "from sklearn import svm\n",
    "\n",
    "X_train, X_test, Y_train, Y_test = ttp(X, Y, test_size = 0.2, random_state=42)\n",
    "\n",
    "#Create a svm Classifier\n",
    "clf = svm.SVC(kernel='linear') # Linear Kernel\n",
    "\n",
    "#Train the model using the training sets\n",
    "clf.fit(X_train, Y_train)\n",
    "\n",
    "#Predict the response for test dataset\n",
    "y_pred = clf.predict(X_test)\n"
   ]
  },
  {
   "cell_type": "code",
   "execution_count": 5,
   "metadata": {},
   "outputs": [
    {
     "name": "stdout",
     "output_type": "stream",
     "text": [
      "Accuracy: 0.0\n"
     ]
    }
   ],
   "source": [
    "from sklearn import metrics\n",
    "\n",
    "print(\"Accuracy:\",metrics.accuracy_score(Y_test, y_pred))"
   ]
  }
 ],
 "metadata": {
  "kernelspec": {
   "display_name": "lib",
   "language": "python",
   "name": "python3"
  },
  "language_info": {
   "codemirror_mode": {
    "name": "ipython",
    "version": 3
   },
   "file_extension": ".py",
   "mimetype": "text/x-python",
   "name": "python",
   "nbconvert_exporter": "python",
   "pygments_lexer": "ipython3",
   "version": "3.10.11"
  }
 },
 "nbformat": 4,
 "nbformat_minor": 2
}
