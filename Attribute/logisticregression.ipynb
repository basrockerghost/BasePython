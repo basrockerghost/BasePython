{
 "cells": [
  {
   "cell_type": "code",
   "execution_count": 4,
   "metadata": {},
   "outputs": [
    {
     "name": "stdout",
     "output_type": "stream",
     "text": [
      "    Images  VDO  Description  Price  Sold  Type\n",
      "0       38    1          120  16.91   245     2\n",
      "1       23    0           82  18.00    20     1\n",
      "2       27    0          113  10.39    30     1\n",
      "3       27    1          114  18.99    12     1\n",
      "4       19    0          102  19.44   637     2\n",
      "5       26    0          104  15.90   555     2\n",
      "6       31    0          124  16.08   128     1\n",
      "7       11    1          102  19.37    34     1\n",
      "8       26    0          116  16.38  2259     3\n",
      "9       31    0          114  15.08   166     1\n",
      "10      20    1          111  16.61  1070     3\n",
      "11      12    0          107  17.85    29     1\n",
      "12      12    0          105   3.04   543     2\n",
      "13      20    0          116  18.82   294     2\n",
      "14      22    0          119  25.80    24     1\n",
      "15      28    0          115  14.78   227     2\n",
      "16      13    1          114  10.56   754     2\n",
      "17      40    0          124  13.48   819     3\n",
      "18      20    1          105  16.73   394     2\n",
      "19      13    1          119  18.98   373     2\n"
     ]
    }
   ],
   "source": [
    "import pandas as pd\n",
    "import numpy as np\n",
    "from sklearn.model_selection import train_test_split\n",
    "from sklearn.linear_model import LogisticRegression\n",
    "from sklearn import datasets\n",
    "from sklearn.metrics import accuracy_score, classification_report\n",
    "\n",
    "df = pd.read_csv(r'C:\\Users\\User\\Downloads\\e_com.csv')\n",
    "print(df)"
   ]
  },
  {
   "cell_type": "code",
   "execution_count": 5,
   "metadata": {},
   "outputs": [
    {
     "name": "stdout",
     "output_type": "stream",
     "text": [
      "X : [[38, 1, 120, 16.91], [23, 0, 82, 18.0], [27, 0, 113, 10.39], [27, 1, 114, 18.99], [19, 0, 102, 19.44], [26, 0, 104, 15.9], [31, 0, 124, 16.08], [11, 1, 102, 19.37], [26, 0, 116, 16.38], [31, 0, 114, 15.08], [20, 1, 111, 16.61], [12, 0, 107, 17.85], [12, 0, 105, 3.04], [20, 0, 116, 18.82], [22, 0, 119, 25.8], [28, 0, 115, 14.78], [13, 1, 114, 10.56], [40, 0, 124, 13.48], [20, 1, 105, 16.73], [13, 1, 119, 18.98]]\n",
      "Y : [2, 1, 1, 1, 2, 2, 1, 1, 3, 1, 3, 1, 2, 2, 1, 2, 2, 3, 2, 2]\n"
     ]
    }
   ],
   "source": [
    "X=[]\n",
    "Y=[]\n",
    "r, c = df.shape\n",
    "for m in range(0, r):\n",
    "    tmp=[]\n",
    "    n=0\n",
    "    for cl in df:\n",
    "        a = df[cl]\n",
    "        if n<4:\n",
    "            tmp.append(a[m])\n",
    "        if n == c-1:\n",
    "            Y.append(a[m])\n",
    "        n+=1\n",
    "    X.append(tmp)\n",
    "\n",
    "print(f'X : {X}')\n",
    "print(f'Y : {Y}')"
   ]
  },
  {
   "cell_type": "code",
   "execution_count": 6,
   "metadata": {},
   "outputs": [
    {
     "name": "stdout",
     "output_type": "stream",
     "text": [
      "Accuracy: 0.25\n",
      "              precision    recall  f1-score   support\n",
      "\n",
      "           1       0.29      0.67      0.40         3\n",
      "           2       0.00      0.00      0.00         3\n",
      "           3       0.00      0.00      0.00         2\n",
      "\n",
      "    accuracy                           0.25         8\n",
      "   macro avg       0.10      0.22      0.13         8\n",
      "weighted avg       0.11      0.25      0.15         8\n",
      "\n"
     ]
    },
    {
     "name": "stderr",
     "output_type": "stream",
     "text": [
      "c:\\Users\\User\\Desktop\\Test py\\For python in vs\\BasePython\\lib\\lib\\site-packages\\sklearn\\linear_model\\_logistic.py:460: ConvergenceWarning: lbfgs failed to converge (status=1):\n",
      "STOP: TOTAL NO. of ITERATIONS REACHED LIMIT.\n",
      "\n",
      "Increase the number of iterations (max_iter) or scale the data as shown in:\n",
      "    https://scikit-learn.org/stable/modules/preprocessing.html\n",
      "Please also refer to the documentation for alternative solver options:\n",
      "    https://scikit-learn.org/stable/modules/linear_model.html#logistic-regression\n",
      "  n_iter_i = _check_optimize_result(\n",
      "c:\\Users\\User\\Desktop\\Test py\\For python in vs\\BasePython\\lib\\lib\\site-packages\\sklearn\\metrics\\_classification.py:1469: UndefinedMetricWarning: Precision and F-score are ill-defined and being set to 0.0 in labels with no predicted samples. Use `zero_division` parameter to control this behavior.\n",
      "  _warn_prf(average, modifier, msg_start, len(result))\n",
      "c:\\Users\\User\\Desktop\\Test py\\For python in vs\\BasePython\\lib\\lib\\site-packages\\sklearn\\metrics\\_classification.py:1469: UndefinedMetricWarning: Precision and F-score are ill-defined and being set to 0.0 in labels with no predicted samples. Use `zero_division` parameter to control this behavior.\n",
      "  _warn_prf(average, modifier, msg_start, len(result))\n",
      "c:\\Users\\User\\Desktop\\Test py\\For python in vs\\BasePython\\lib\\lib\\site-packages\\sklearn\\metrics\\_classification.py:1469: UndefinedMetricWarning: Precision and F-score are ill-defined and being set to 0.0 in labels with no predicted samples. Use `zero_division` parameter to control this behavior.\n",
      "  _warn_prf(average, modifier, msg_start, len(result))\n"
     ]
    }
   ],
   "source": [
    "X_train, X_test, y_train, y_test = train_test_split(X, Y, test_size=0.4, random_state=42)\n",
    "model = LogisticRegression()\n",
    "\n",
    "model.fit(X_train, y_train)\n",
    "\n",
    "y_pred = model.predict(X_test)\n",
    "\n",
    "accuracy = accuracy_score(y_test, y_pred)\n",
    "print(\"Accuracy:\", accuracy)\n",
    "\n",
    "print(classification_report(y_test, y_pred))"
   ]
  }
 ],
 "metadata": {
  "kernelspec": {
   "display_name": "lib",
   "language": "python",
   "name": "python3"
  },
  "language_info": {
   "codemirror_mode": {
    "name": "ipython",
    "version": 3
   },
   "file_extension": ".py",
   "mimetype": "text/x-python",
   "name": "python",
   "nbconvert_exporter": "python",
   "pygments_lexer": "ipython3",
   "version": "3.10.11"
  }
 },
 "nbformat": 4,
 "nbformat_minor": 2
}
