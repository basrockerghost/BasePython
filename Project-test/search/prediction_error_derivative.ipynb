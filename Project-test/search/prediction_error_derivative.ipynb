{
 "cells": [
  {
   "cell_type": "code",
   "execution_count": 12,
   "metadata": {},
   "outputs": [
    {
     "name": "stdout",
     "output_type": "stream",
     "text": [
      "The dot product 1 is 2.1672\n"
     ]
    }
   ],
   "source": [
    "#compute how similar input_vector and weight by dot product\n",
    "input_vector = [1.72, 1.23]\n",
    "weight_1 = [1.26, 0]\n",
    "weight_2 = [2.17, 0.32]\n",
    "\n",
    "first_index = input_vector[0]*weight_1[0]\n",
    "second_index = input_vector[1]*weight_1[1]\n",
    "dot_product_1 = first_index+second_index\n",
    "\n",
    "print(f'The dot product 1 is {dot_product_1}')"
   ]
  },
  {
   "cell_type": "code",
   "execution_count": 13,
   "metadata": {},
   "outputs": [
    {
     "name": "stdout",
     "output_type": "stream",
     "text": [
      "The dot product 2 is 4.1259999999999994\n"
     ]
    }
   ],
   "source": [
    "first_index = input_vector[0]*weight_2[0]\n",
    "second_index = input_vector[1]*weight_2[1]\n",
    "dot_product_2 = first_index+second_index\n",
    "\n",
    "print(f'The dot product 2 is {dot_product_2}')"
   ]
  },
  {
   "cell_type": "code",
   "execution_count": 14,
   "metadata": {},
   "outputs": [
    {
     "name": "stdout",
     "output_type": "stream",
     "text": [
      "The dot product 1 is 2.1672\n"
     ]
    }
   ],
   "source": [
    "#compute how similar input_vector and weight by numpy\n",
    "import numpy as np\n",
    "\n",
    "dot_product_1 = np.dot(input_vector, weight_1)\n",
    "print(f'The dot product 1 is {dot_product_1}')"
   ]
  },
  {
   "cell_type": "code",
   "execution_count": 15,
   "metadata": {},
   "outputs": [
    {
     "name": "stdout",
     "output_type": "stream",
     "text": [
      "The dot product 2 is 4.1259999999999994\n"
     ]
    }
   ],
   "source": [
    "dot_product_2 = np.dot(input_vector, weight_2)\n",
    "print(f'The dot product 2 is {dot_product_2}')"
   ]
  },
  {
   "cell_type": "code",
   "execution_count": 16,
   "metadata": {},
   "outputs": [
    {
     "name": "stdout",
     "output_type": "stream",
     "text": [
      "Show input vector 1 [1.66 1.56]\n",
      "Show input vector 2 [2.  1.5]\n",
      "Show target [1 0]\n"
     ]
    }
   ],
   "source": [
    "#input and output dataset\n",
    "input_vector_1 = np.array([1.66, 1.56])\n",
    "input_vector_2 = np.array([2, 1.5])\n",
    "target = np.array([1, 0])\n",
    "print(f'Show input vector 1 {input_vector_1}')\n",
    "print(f'Show input vector 2 {input_vector_2}')\n",
    "print(f'Show target {target}')"
   ]
  },
  {
   "cell_type": "code",
   "execution_count": 24,
   "metadata": {},
   "outputs": [
    {
     "name": "stdout",
     "output_type": "stream",
     "text": [
      "The prediction 1 result is [0.7985731 0.7985731]\n"
     ]
    }
   ],
   "source": [
    "#make model to predict with sigmoid function\n",
    "weight = np.array([1.45, -0.66])\n",
    "bias = np.array([0, 0])\n",
    "\n",
    "def sigmoid(x):\n",
    "    return 1/(1+np.exp(-x))\n",
    "\n",
    "def make_prediction(input_vector, weight, bias):\n",
    "    layer_1 = np.dot(input_vector, weight)+bias\n",
    "    layer_2 = sigmoid(layer_1)\n",
    "    return layer_2\n",
    "\n",
    "#predict input_vector_1\n",
    "prediction1=make_prediction(input_vector_1, weight, bias)\n",
    "\n",
    "print(f'The prediction 1 result is {prediction1}')"
   ]
  },
  {
   "cell_type": "code",
   "execution_count": 26,
   "metadata": {},
   "outputs": [
    {
     "name": "stdout",
     "output_type": "stream",
     "text": [
      "Prediction is [0.7985731 0.7985731], Error [0.637719 0.637719]\n"
     ]
    }
   ],
   "source": [
    "#computing the prediction error by MSE(mean squared error)\n",
    "#compute the difference between the prediction and the target and raised to the power of 2\n",
    "target=0\n",
    "mse = np.square(prediction1 - target)\n",
    "\n",
    "print(f'Prediction is {prediction1}, Error {mse}')"
   ]
  },
  {
   "cell_type": "code",
   "execution_count": 27,
   "metadata": {},
   "outputs": [
    {
     "name": "stdout",
     "output_type": "stream",
     "text": [
      "The derivative is [1.59714621 1.59714621]\n"
     ]
    }
   ],
   "source": [
    "#reduct the error by derivative with gradient descent\n",
    "derivative=2*(prediction1-target)\n",
    "\n",
    "print(f'The derivative is {derivative}')"
   ]
  },
  {
   "cell_type": "code",
   "execution_count": 28,
   "metadata": {},
   "outputs": [
    {
     "name": "stdout",
     "output_type": "stream",
     "text": [
      "The prediction 2 result is [0.02460215 0.02460215], Error [0.00060527 0.00060527]\n"
     ]
    }
   ],
   "source": [
    "#update weight vector by subtracting the derivative\n",
    "weight= weight - derivative\n",
    "\n",
    "prediction2 = make_prediction(input_vector_2, weight, bias)\n",
    "error=(prediction2-target)**2\n",
    "\n",
    "print(f'The prediction 2 result is {prediction2}, Error {error}')"
   ]
  },
  {
   "cell_type": "code",
   "execution_count": 30,
   "metadata": {},
   "outputs": [
    {
     "name": "stdout",
     "output_type": "stream",
     "text": [
      "The prediction 1 result [0.02263394 0.02263394], error [0.95524442 0.95524442]\n"
     ]
    }
   ],
   "source": [
    "prediction1=make_prediction(input_vector_1, weight, bias)\n",
    "error = (prediction1 - 1)**2\n",
    "\n",
    "print(f'The prediction 1 result {prediction1}, error {error}')"
   ]
  }
 ],
 "metadata": {
  "kernelspec": {
   "display_name": "lib",
   "language": "python",
   "name": "python3"
  },
  "language_info": {
   "codemirror_mode": {
    "name": "ipython",
    "version": 3
   },
   "file_extension": ".py",
   "mimetype": "text/x-python",
   "name": "python",
   "nbconvert_exporter": "python",
   "pygments_lexer": "ipython3",
   "version": "3.10.11"
  }
 },
 "nbformat": 4,
 "nbformat_minor": 2
}
